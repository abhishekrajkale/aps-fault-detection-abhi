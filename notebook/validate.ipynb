{
 "cells": [
  {
   "cell_type": "code",
   "execution_count": 3,
   "metadata": {},
   "outputs": [],
   "source": [
    "import numpy as np \n",
    "from scipy import stats\n",
    "rng = np.random.default_rng()\n",
    "target1 = stats.uniform.rvs(size=100, random_state=rng)\n",
    "target2 = stats.norm.rvs(size=110, random_state=rng)\n",
    "response = stats.ks_2samp(sample1, sample2)\n"
   ]
  },
  {
   "cell_type": "code",
   "execution_count": 5,
   "metadata": {},
   "outputs": [
    {
     "data": {
      "text/plain": [
       "array([0.06118741, 0.79091241, 0.88428105, 0.46900139, 0.80165184,\n",
       "       0.22756687, 0.1815065 , 0.04081242, 0.13030395, 0.23322502,\n",
       "       0.01890453, 0.0740686 , 0.20781342, 0.08091203, 0.35902641,\n",
       "       0.28925138, 0.66993667, 0.57425905, 0.35614064, 0.89684646,\n",
       "       0.30228768, 0.91312207, 0.36449874, 0.66012493, 0.57133132,\n",
       "       0.48222701, 0.99062541, 0.91608477, 0.25649564, 0.92343104,\n",
       "       0.13304209, 0.37905749, 0.91383654, 0.19936823, 0.92328545,\n",
       "       0.37083674, 0.31150459, 0.61183553, 0.72913719, 0.42431548,\n",
       "       0.01038363, 0.59845302, 0.9266065 , 0.21037822, 0.07501937,\n",
       "       0.43085711, 0.73487116, 0.980593  , 0.49767548, 0.83886436,\n",
       "       0.73411472, 0.17704318, 0.11005898, 0.77790292, 0.99692003,\n",
       "       0.50652553, 0.48212606, 0.35470243, 0.96351754, 0.92719389,\n",
       "       0.46901759, 0.6234821 , 0.92932701, 0.80097735, 0.3073514 ,\n",
       "       0.98593484, 0.52691993, 0.25278228, 0.81260867, 0.80697441,\n",
       "       0.89622397, 0.94398548, 0.55684546, 0.29909013, 0.64285107,\n",
       "       0.47046154, 0.75194752, 0.33535312, 0.38499463, 0.20798482,\n",
       "       0.97123477, 0.12334796, 0.32771866, 0.6035316 , 0.46131954,\n",
       "       0.38373939, 0.77384262, 0.66427009, 0.36419963, 0.42253506,\n",
       "       0.77674088, 0.37874757, 0.67220591, 0.4304611 , 0.30892227,\n",
       "       0.75421181, 0.43801919, 0.47795031, 0.35131136, 0.83706827])"
      ]
     },
     "execution_count": 5,
     "metadata": {},
     "output_type": "execute_result"
    }
   ],
   "source": [
    "sample1"
   ]
  },
  {
   "cell_type": "code",
   "execution_count": 6,
   "metadata": {},
   "outputs": [
    {
     "data": {
      "text/plain": [
       "array([-0.68626802,  0.37005447,  0.21959141, -1.57060979,  0.36913016,\n",
       "        1.28137189, -1.23636329, -1.42152311,  1.18279138, -0.72963228,\n",
       "        0.33345873,  1.91828745, -0.11420401, -0.24105416,  0.5066065 ,\n",
       "       -0.89109633,  2.69719629,  1.09044039,  0.61806957,  0.58083524,\n",
       "        0.3806604 , -0.29440562,  0.11994397, -1.11740532, -0.259063  ,\n",
       "        1.41132785,  0.27786904, -0.40764675, -1.55145696,  1.79293649,\n",
       "       -0.36006887, -0.16279354,  0.57456299,  0.18243056, -0.48522324,\n",
       "        0.21355842, -0.24604782,  0.24044453, -0.73688238,  1.4803847 ,\n",
       "       -0.82003208, -0.47630338, -0.16853134, -0.17244547, -0.0943154 ,\n",
       "       -1.25515001, -0.47014131,  0.15134699, -1.53592894,  0.34880247,\n",
       "       -0.71587249,  0.01257353,  0.8224983 , -0.83626558,  0.75405763,\n",
       "       -1.38541274, -0.49878086, -0.11281432,  2.11309818,  1.72289206,\n",
       "       -0.62120185,  0.7161297 ,  1.31761802, -0.31687802, -1.08567922,\n",
       "       -1.85903228,  0.95747215,  0.69669242, -0.83061017,  0.39864669,\n",
       "       -0.22596438, -0.80416864,  0.71348672,  1.08751178,  0.05040909,\n",
       "        1.07115711, -0.13774234,  0.39112764, -0.19651755,  0.65087721,\n",
       "       -0.09067342, -1.2761317 ,  0.3202754 ,  0.51596324,  1.08203669,\n",
       "       -0.26646269, -0.9817592 , -0.51304076, -1.02504127, -0.83568945,\n",
       "       -0.78867836, -2.1445441 , -0.78659603, -0.78984427, -0.27097216,\n",
       "       -1.44567136,  0.99994362, -0.28531753,  0.58171642,  2.29490265,\n",
       "       -0.82185984, -0.30623844,  1.08252945, -0.66876257,  0.02694228,\n",
       "       -0.82469038,  1.02666277, -0.5194208 , -0.23723234, -0.9353035 ])"
      ]
     },
     "execution_count": 6,
     "metadata": {},
     "output_type": "execute_result"
    }
   ],
   "source": [
    "sample2"
   ]
  },
  {
   "cell_type": "code",
   "execution_count": 9,
   "metadata": {},
   "outputs": [
    {
     "data": {
      "text/plain": [
       "2.3e-15"
      ]
     },
     "execution_count": 9,
     "metadata": {},
     "output_type": "execute_result"
    }
   ],
   "source": [
    "round(response.pvalue,16)"
   ]
  },
  {
   "cell_type": "code",
   "execution_count": null,
   "metadata": {},
   "outputs": [],
   "source": [
    "#Anomly in my dataset\n",
    "#\n",
    "# 1.High Null Value\n",
    "2. Missing COlumns\n",
    "3. Outlier\n",
    "4. Categorical: \n",
    "Gender--> MALE, FEMALE,OTHER"
   ]
  },
  {
   "cell_type": "code",
   "execution_count": 2,
   "metadata": {},
   "outputs": [],
   "source": [
    "import pandas as pd "
   ]
  },
  {
   "cell_type": "code",
   "execution_count": 4,
   "metadata": {},
   "outputs": [],
   "source": [
    "df = pd.read_csv(\"/config/workspace/artifact/12042022__161228/data_ingestion/dataset/train.csv\")"
   ]
  },
  {
   "cell_type": "code",
   "execution_count": 1,
   "metadata": {},
   "outputs": [
    {
     "ename": "SyntaxError",
     "evalue": "invalid syntax (2943059453.py, line 1)",
     "output_type": "error",
     "traceback": [
      "\u001b[0;36m  Cell \u001b[0;32mIn[1], line 1\u001b[0;36m\u001b[0m\n\u001b[0;31m    (df.isnull().sum()/df.shape[0]).(df.isnull().sum()/df.shape[0]).\u001b[0m\n\u001b[0m                                    ^\u001b[0m\n\u001b[0;31mSyntaxError\u001b[0m\u001b[0;31m:\u001b[0m invalid syntax\n"
     ]
    }
   ],
   "source": [
    "(df.isnull().sum()/df.shape[0]).(df.isnull().sum()/df.shape[0])."
   ]
  },
  {
   "cell_type": "code",
   "execution_count": null,
   "metadata": {},
   "outputs": [],
   "source": []
  }
 ],
 "metadata": {
  "kernelspec": {
   "display_name": "Python 3.8.10 64-bit",
   "language": "python",
   "name": "python3"
  },
  "language_info": {
   "codemirror_mode": {
    "name": "ipython",
    "version": 3
   },
   "file_extension": ".py",
   "mimetype": "text/x-python",
   "name": "python",
   "nbconvert_exporter": "python",
   "pygments_lexer": "ipython3",
   "version": "3.8.10"
  },
  "orig_nbformat": 4,
  "vscode": {
   "interpreter": {
    "hash": "e7370f93d1d0cde622a1f8e1c04877d8463912d04d973331ad4851f04de6915a"
   }
  }
 },
 "nbformat": 4,
 "nbformat_minor": 2
}
